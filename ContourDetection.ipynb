{
 "cells": [
  {
   "cell_type": "code",
   "execution_count": 1,
   "metadata": {},
   "outputs": [],
   "source": [
    "import pandas as pd\n",
    "import numpy as np\n",
    "import matplotlib.pyplot as plt\n",
    "import cv2"
   ]
  },
  {
   "cell_type": "code",
   "execution_count": 2,
   "metadata": {},
   "outputs": [],
   "source": [
    "img = cv2.imread(\"/Users/sriramkurnella/AI/My_Work/Numbers.png\")"
   ]
  },
  {
   "cell_type": "code",
   "execution_count": 3,
   "metadata": {},
   "outputs": [],
   "source": [
    "img_grey = cv2.cvtColor(img, cv2.COLOR_BGR2GRAY)"
   ]
  },
  {
   "cell_type": "code",
   "execution_count": 4,
   "metadata": {},
   "outputs": [
    {
     "data": {
      "text/plain": [
       "array([[183, 183, 183, ..., 167, 167, 167],\n",
       "       [183, 183, 183, ..., 167, 167, 167],\n",
       "       [183, 183, 183, ..., 167, 167, 167],\n",
       "       ...,\n",
       "       [183, 183, 182, ..., 172, 172, 171],\n",
       "       [184, 183, 183, ..., 172, 171, 171],\n",
       "       [182, 183, 182, ..., 172, 171, 172]], dtype=uint8)"
      ]
     },
     "execution_count": 4,
     "metadata": {},
     "output_type": "execute_result"
    }
   ],
   "source": [
    "img_grey"
   ]
  },
  {
   "cell_type": "code",
   "execution_count": null,
   "metadata": {},
   "outputs": [
    {
     "ename": "NameError",
     "evalue": "name 'os' is not defined",
     "output_type": "error",
     "traceback": [
      "\u001b[0;31m---------------------------------------------------------------------------\u001b[0m",
      "\u001b[0;31mNameError\u001b[0m                                 Traceback (most recent call last)",
      "Cell \u001b[0;32mIn[5], line 21\u001b[0m\n\u001b[1;32m     19\u001b[0m cv2\u001b[38;5;241m.\u001b[39mwaitKey(\u001b[38;5;241m5000\u001b[39m)\n\u001b[1;32m     20\u001b[0m cv2\u001b[38;5;241m.\u001b[39mdestroyAllWindows()\n\u001b[0;32m---> 21\u001b[0m os\u001b[38;5;241m.\u001b[39msystem(\u001b[38;5;124m\"\u001b[39m\u001b[38;5;124mtaskkill /im python.exe /f\u001b[39m\u001b[38;5;124m\"\u001b[39m)\n",
      "\u001b[0;31mNameError\u001b[0m: name 'os' is not defined"
     ]
    },
    {
     "ename": "",
     "evalue": "",
     "output_type": "error",
     "traceback": [
      "\u001b[1;31mThe Kernel crashed while executing code in the current cell or a previous cell. \n",
      "\u001b[1;31mPlease review the code in the cell(s) to identify a possible cause of the failure. \n",
      "\u001b[1;31mClick <a href='https://aka.ms/vscodeJupyterKernelCrash'>here</a> for more info. \n",
      "\u001b[1;31mView Jupyter <a href='command:jupyter.viewOutput'>log</a> for further details."
     ]
    }
   ],
   "source": [
    "# Load the image in grayscale\n",
    "image = cv2.imread(\"/Users/sriramkurnella/AI/My_Work/Numbers.png\", cv2.IMREAD_GRAYSCALE)\n",
    "\n",
    "# Apply Gaussian Blur to remove noise\n",
    "blurred = cv2.GaussianBlur(image, (5,5), 0)\n",
    "\n",
    "# Apply Adaptive Thresholding\n",
    "binary = cv2.adaptiveThreshold(blurred, 255, cv2.ADAPTIVE_THRESH_GAUSSIAN_C, cv2.THRESH_BINARY_INV, 11, 2)\n",
    "\n",
    "# Find contours\n",
    "contours, _ = cv2.findContours(binary, cv2.RETR_EXTERNAL, cv2.CHAIN_APPROX_SIMPLE)\n",
    "\n",
    "# Draw contours on the original image\n",
    "contour_img = cv2.cvtColor(image, cv2.COLOR_GRAY2BGR)\n",
    "cv2.drawContours(contour_img, contours, -1, (0,255,0), 2)\n",
    "\n",
    "# Show image with contours\n",
    "cv2.imshow(\"Contours\", contour_img)\n",
    "cv2.waitKey(5000)\n",
    "cv2.destroyAllWindows()\n",
    "os.system(\"taskkill /im python.exe /f\") "
   ]
  },
  {
   "cell_type": "code",
   "execution_count": null,
   "metadata": {},
   "outputs": [],
   "source": [
    "\n",
    "\n",
    "def preprocess_page(image_path):\n",
    "    # Load the image in grayscale\n",
    "    img = cv2.imread(image_path, cv2.IMREAD_GRAYSCALE)\n",
    "\n",
    "    # Apply Gaussian Blur to remove noise\n",
    "    img_blur = cv2.GaussianBlur(img, (5, 5), 0)\n",
    "\n",
    "    # Apply Adaptive Thresholding to detect digits clearly\n",
    "    img_thresh = cv2.adaptiveThreshold(img_blur, 255, cv2.ADAPTIVE_THRESH_GAUSSIAN_C, cv2.THRESH_BINARY_INV, 11, 2)\n",
    "\n",
    "    return img_thresh\n",
    "\n",
    "def extract_and_segment_digits(image):\n",
    "    # Find contours (digit outlines)\n",
    "    contours, _ = cv2.findContours(image, cv2.RETR_EXTERNAL, cv2.CHAIN_APPROX_SIMPLE)\n",
    "\n",
    "    digit_images = []\n",
    "    bounding_boxes = []\n",
    "\n",
    "    for contour in contours:\n",
    "        # Get bounding box for each detected digit\n",
    "        x, y, w, h = cv2.boundingRect(contour)\n",
    "        bounding_boxes.append((x, y, w, h))\n",
    "\n",
    "    # Sort bounding boxes from left to right (important for multi-digit numbers)\n",
    "    bounding_boxes = sorted(bounding_boxes, key=lambda b: b[0])\n",
    "\n",
    "    for x, y, w, h in bounding_boxes:\n",
    "        # Extract the digit\n",
    "        digit = image[y:y+h, x:x+w]\n",
    "\n",
    "        # Resize to 28x28 pixels\n",
    "        digit = cv2.resize(digit, (28, 28))\n",
    "\n",
    "        # Normalize and reshape for model input\n",
    "        digit = digit / 255.0\n",
    "        digit = digit.reshape(784, 1)  # Convert to (784,1) shape for neural network\n",
    "\n",
    "        digit_images.append(digit)\n",
    "\n",
    "    return digit_images\n",
    "\n",
    "# Load and preprocess the page image\n",
    "image_path = \"/Users/sriramkurnella/AI/My_Work/Numbers.png\"  # Replace with your image path\n",
    "preprocessed_image = preprocess_page(image_path)\n",
    "\n",
    "# Extract and segment digits\n",
    "digit_images = extract_and_segment_digits(preprocessed_image)\n",
    "\n",
    "# Predict each digit using trained model\n",
    "predicted_digits = [brain.predict(digit) for digit in digit_images]\n",
    "\n",
    "print(\"Recognized Digits:\", predicted_digits)"
   ]
  }
 ],
 "metadata": {
  "kernelspec": {
   "display_name": "Python 3 (ipykernel)",
   "language": "python",
   "name": "python3"
  },
  "language_info": {
   "codemirror_mode": {
    "name": "ipython",
    "version": 3
   },
   "file_extension": ".py",
   "mimetype": "text/x-python",
   "name": "python",
   "nbconvert_exporter": "python",
   "pygments_lexer": "ipython3",
   "version": "3.11.0"
  }
 },
 "nbformat": 4,
 "nbformat_minor": 2
}
