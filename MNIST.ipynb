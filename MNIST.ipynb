{
 "cells": [
  {
   "cell_type": "code",
   "execution_count": 17,
   "metadata": {},
   "outputs": [],
   "source": [
    "import numpy as np\n",
    "import pandas as pd\n",
    "import tensorflow as tf\n",
    "import matplotlib.pyplot as plt\n",
    "import cv2"
   ]
  },
  {
   "cell_type": "code",
   "execution_count": null,
   "metadata": {},
   "outputs": [],
   "source": [
    "class NeuralNetwork:\n",
    "\n",
    "    def __init__(self , no_of_features , outputs , dimension_of_hidden_layers , type_of_nn):\n",
    "        self.input_layer = tf.convert_to_tensor(no_of_features, dtype=tf.float32)\n",
    "        self.outputs = tf.convert_to_tensor(outputs, dtype=tf.float32)\n",
    "\n",
    "        #Declare an empty datastructure for storing weights and biases\n",
    "        self.weights = []\n",
    "        self.biases = []\n",
    "\n",
    "        self.weights.append(tf.Variable(tf.random.normal([self.hidden_layers_dimensions[0], self.input_layer_dimension], stddev=0.1, dtype=tf.float32)))\n",
    "        self.biases.append(tf.Variable(tf.zeros([self.hidden_layers_dimensions[0], 1], dtype=tf.float32)))\n",
    "\n",
    "        # Hidden layers\n",
    "        for i in range(1, len(self.hidden_layers_dimensions)):\n",
    "            self.weights.append(tf.Variable(tf.random.normal([self.hidden_layers_dimensions[i], self.hidden_layers_dimensions[i - 1]], stddev=tf.sqrt(1.0 / self.hidden_layers_dimensions[i - 1]), dtype=tf.float32)))\n",
    "            self.biases.append(tf.Variable(tf.zeros([self.hidden_layers_dimensions[i], 1], dtype=tf.float32)))\n",
    "\n",
    "        # Last hidden layer to output (10 neurons for 10 classes)\n",
    "        self.weights.append(tf.Variable(tf.random.normal([self.output_layer_dimension, self.hidden_layers_dimensions[-1]], stddev=tf.sqrt(1.0 / self.hidden_layers_dimensions[-1]), dtype=tf.float32)))\n",
    "        self.biases.append(tf.Variable(tf.zeros([self.output_layer_dimension, 1], dtype=tf.float32)))\n",
    "    \n",
    "    def forward_propagation(self , input_data):\n"
   ]
  },
  {
   "cell_type": "code",
   "execution_count": null,
   "metadata": {},
   "outputs": [],
   "source": [
    "def leftMax(arr , index):\n",
    "    if"
   ]
  }
 ],
 "metadata": {
  "kernelspec": {
   "display_name": "Python 3 (ipykernel)",
   "language": "python",
   "name": "python3"
  }
 },
 "nbformat": 4,
 "nbformat_minor": 2
}
